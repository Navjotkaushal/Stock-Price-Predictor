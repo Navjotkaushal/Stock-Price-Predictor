{
 "cells": [
  {
   "cell_type": "code",
   "execution_count": 1,
   "id": "937e6f2d",
   "metadata": {},
   "outputs": [
    {
     "name": "stderr",
     "output_type": "stream",
     "text": [
      "C:\\Users\\Navjot Kaushal\\AppData\\Local\\Temp\\ipykernel_18468\\633369732.py:6: FutureWarning: YF.download() has changed argument auto_adjust default to True\n",
      "  stock = yf.download(\"TSLA\", start=\"2015-01-01\", end=\"2025-08-09\")\n",
      "[*********************100%***********************]  1 of 1 completed\n"
     ]
    }
   ],
   "source": [
    "import yfinance as yf\n",
    "import pandas as pd\n",
    "import matplotlib.pyplot as plt\n",
    "\n",
    "\n",
    "stock = yf.download(\"TSLA\", start=\"2015-01-01\", end=\"2025-08-09\")"
   ]
  },
  {
   "cell_type": "code",
   "execution_count": 2,
   "id": "e8bcc9ce",
   "metadata": {},
   "outputs": [
    {
     "data": {
      "application/vnd.microsoft.datawrangler.viewer.v0+json": {
       "columns": [
        {
         "name": "Date",
         "rawType": "datetime64[ns]",
         "type": "datetime"
        },
        {
         "name": "('Close', 'TSLA')",
         "rawType": "float64",
         "type": "float"
        },
        {
         "name": "('High', 'TSLA')",
         "rawType": "float64",
         "type": "float"
        },
        {
         "name": "('Low', 'TSLA')",
         "rawType": "float64",
         "type": "float"
        },
        {
         "name": "('Open', 'TSLA')",
         "rawType": "float64",
         "type": "float"
        },
        {
         "name": "('Volume', 'TSLA')",
         "rawType": "int64",
         "type": "integer"
        }
       ],
       "ref": "0000f469-2e88-491a-9f57-e6642c571115",
       "rows": [
        [
         "2015-01-02 00:00:00",
         "14.620667457580566",
         "14.883333206176758",
         "14.21733283996582",
         "14.857999801635742",
         "71466000"
        ],
        [
         "2015-01-05 00:00:00",
         "14.005999565124512",
         "14.433333396911621",
         "13.810667037963867",
         "14.303333282470703",
         "80527500"
        ],
        [
         "2015-01-06 00:00:00",
         "14.085332870483398",
         "14.279999732971191",
         "13.61400032043457",
         "14.003999710083008",
         "93928500"
        ],
        [
         "2015-01-07 00:00:00",
         "14.063332557678223",
         "14.3186674118042",
         "13.985333442687988",
         "14.223333358764648",
         "44526000"
        ],
        [
         "2015-01-08 00:00:00",
         "14.041333198547363",
         "14.25333309173584",
         "14.000666618347168",
         "14.187333106994629",
         "51637500"
        ]
       ],
       "shape": {
        "columns": 5,
        "rows": 5
       }
      },
      "text/html": [
       "<div>\n",
       "<style scoped>\n",
       "    .dataframe tbody tr th:only-of-type {\n",
       "        vertical-align: middle;\n",
       "    }\n",
       "\n",
       "    .dataframe tbody tr th {\n",
       "        vertical-align: top;\n",
       "    }\n",
       "\n",
       "    .dataframe thead tr th {\n",
       "        text-align: left;\n",
       "    }\n",
       "\n",
       "    .dataframe thead tr:last-of-type th {\n",
       "        text-align: right;\n",
       "    }\n",
       "</style>\n",
       "<table border=\"1\" class=\"dataframe\">\n",
       "  <thead>\n",
       "    <tr>\n",
       "      <th>Price</th>\n",
       "      <th>Close</th>\n",
       "      <th>High</th>\n",
       "      <th>Low</th>\n",
       "      <th>Open</th>\n",
       "      <th>Volume</th>\n",
       "    </tr>\n",
       "    <tr>\n",
       "      <th>Ticker</th>\n",
       "      <th>TSLA</th>\n",
       "      <th>TSLA</th>\n",
       "      <th>TSLA</th>\n",
       "      <th>TSLA</th>\n",
       "      <th>TSLA</th>\n",
       "    </tr>\n",
       "    <tr>\n",
       "      <th>Date</th>\n",
       "      <th></th>\n",
       "      <th></th>\n",
       "      <th></th>\n",
       "      <th></th>\n",
       "      <th></th>\n",
       "    </tr>\n",
       "  </thead>\n",
       "  <tbody>\n",
       "    <tr>\n",
       "      <th>2015-01-02</th>\n",
       "      <td>14.620667</td>\n",
       "      <td>14.883333</td>\n",
       "      <td>14.217333</td>\n",
       "      <td>14.858000</td>\n",
       "      <td>71466000</td>\n",
       "    </tr>\n",
       "    <tr>\n",
       "      <th>2015-01-05</th>\n",
       "      <td>14.006000</td>\n",
       "      <td>14.433333</td>\n",
       "      <td>13.810667</td>\n",
       "      <td>14.303333</td>\n",
       "      <td>80527500</td>\n",
       "    </tr>\n",
       "    <tr>\n",
       "      <th>2015-01-06</th>\n",
       "      <td>14.085333</td>\n",
       "      <td>14.280000</td>\n",
       "      <td>13.614000</td>\n",
       "      <td>14.004000</td>\n",
       "      <td>93928500</td>\n",
       "    </tr>\n",
       "    <tr>\n",
       "      <th>2015-01-07</th>\n",
       "      <td>14.063333</td>\n",
       "      <td>14.318667</td>\n",
       "      <td>13.985333</td>\n",
       "      <td>14.223333</td>\n",
       "      <td>44526000</td>\n",
       "    </tr>\n",
       "    <tr>\n",
       "      <th>2015-01-08</th>\n",
       "      <td>14.041333</td>\n",
       "      <td>14.253333</td>\n",
       "      <td>14.000667</td>\n",
       "      <td>14.187333</td>\n",
       "      <td>51637500</td>\n",
       "    </tr>\n",
       "  </tbody>\n",
       "</table>\n",
       "</div>"
      ],
      "text/plain": [
       "Price           Close       High        Low       Open    Volume\n",
       "Ticker           TSLA       TSLA       TSLA       TSLA      TSLA\n",
       "Date                                                            \n",
       "2015-01-02  14.620667  14.883333  14.217333  14.858000  71466000\n",
       "2015-01-05  14.006000  14.433333  13.810667  14.303333  80527500\n",
       "2015-01-06  14.085333  14.280000  13.614000  14.004000  93928500\n",
       "2015-01-07  14.063333  14.318667  13.985333  14.223333  44526000\n",
       "2015-01-08  14.041333  14.253333  14.000667  14.187333  51637500"
      ]
     },
     "execution_count": 2,
     "metadata": {},
     "output_type": "execute_result"
    }
   ],
   "source": [
    "stock.head()"
   ]
  },
  {
   "cell_type": "code",
   "execution_count": 3,
   "id": "011b8ebd",
   "metadata": {},
   "outputs": [],
   "source": [
    "stock.to_csv('Tesla_Stock_data.csv')"
   ]
  },
  {
   "cell_type": "code",
   "execution_count": 4,
   "id": "9f646768",
   "metadata": {},
   "outputs": [],
   "source": [
    "df = pd.read_csv('Tesla_Stock_data.csv')"
   ]
  },
  {
   "cell_type": "code",
   "execution_count": 5,
   "id": "89d4d528",
   "metadata": {},
   "outputs": [
    {
     "data": {
      "application/vnd.microsoft.datawrangler.viewer.v0+json": {
       "columns": [
        {
         "name": "index",
         "rawType": "int64",
         "type": "integer"
        },
        {
         "name": "Price",
         "rawType": "object",
         "type": "string"
        },
        {
         "name": "Close",
         "rawType": "object",
         "type": "unknown"
        },
        {
         "name": "High",
         "rawType": "object",
         "type": "unknown"
        },
        {
         "name": "Low",
         "rawType": "object",
         "type": "unknown"
        },
        {
         "name": "Open",
         "rawType": "object",
         "type": "unknown"
        },
        {
         "name": "Volume",
         "rawType": "object",
         "type": "unknown"
        }
       ],
       "ref": "0ce35ef3-5482-4ac8-a6df-be7b338dbf57",
       "rows": [
        [
         "0",
         "Ticker",
         "TSLA",
         "TSLA",
         "TSLA",
         "TSLA",
         "TSLA"
        ],
        [
         "1",
         "Date",
         null,
         null,
         null,
         null,
         null
        ],
        [
         "2",
         "2015-01-02",
         "14.620667457580566",
         "14.883333206176758",
         "14.21733283996582",
         "14.857999801635742",
         "71466000"
        ],
        [
         "3",
         "2015-01-05",
         "14.005999565124512",
         "14.433333396911621",
         "13.810667037963867",
         "14.303333282470703",
         "80527500"
        ],
        [
         "4",
         "2015-01-06",
         "14.085332870483398",
         "14.279999732971191",
         "13.61400032043457",
         "14.003999710083008",
         "93928500"
        ]
       ],
       "shape": {
        "columns": 6,
        "rows": 5
       }
      },
      "text/html": [
       "<div>\n",
       "<style scoped>\n",
       "    .dataframe tbody tr th:only-of-type {\n",
       "        vertical-align: middle;\n",
       "    }\n",
       "\n",
       "    .dataframe tbody tr th {\n",
       "        vertical-align: top;\n",
       "    }\n",
       "\n",
       "    .dataframe thead th {\n",
       "        text-align: right;\n",
       "    }\n",
       "</style>\n",
       "<table border=\"1\" class=\"dataframe\">\n",
       "  <thead>\n",
       "    <tr style=\"text-align: right;\">\n",
       "      <th></th>\n",
       "      <th>Price</th>\n",
       "      <th>Close</th>\n",
       "      <th>High</th>\n",
       "      <th>Low</th>\n",
       "      <th>Open</th>\n",
       "      <th>Volume</th>\n",
       "    </tr>\n",
       "  </thead>\n",
       "  <tbody>\n",
       "    <tr>\n",
       "      <th>0</th>\n",
       "      <td>Ticker</td>\n",
       "      <td>TSLA</td>\n",
       "      <td>TSLA</td>\n",
       "      <td>TSLA</td>\n",
       "      <td>TSLA</td>\n",
       "      <td>TSLA</td>\n",
       "    </tr>\n",
       "    <tr>\n",
       "      <th>1</th>\n",
       "      <td>Date</td>\n",
       "      <td>NaN</td>\n",
       "      <td>NaN</td>\n",
       "      <td>NaN</td>\n",
       "      <td>NaN</td>\n",
       "      <td>NaN</td>\n",
       "    </tr>\n",
       "    <tr>\n",
       "      <th>2</th>\n",
       "      <td>2015-01-02</td>\n",
       "      <td>14.620667457580566</td>\n",
       "      <td>14.883333206176758</td>\n",
       "      <td>14.21733283996582</td>\n",
       "      <td>14.857999801635742</td>\n",
       "      <td>71466000</td>\n",
       "    </tr>\n",
       "    <tr>\n",
       "      <th>3</th>\n",
       "      <td>2015-01-05</td>\n",
       "      <td>14.005999565124512</td>\n",
       "      <td>14.433333396911621</td>\n",
       "      <td>13.810667037963867</td>\n",
       "      <td>14.303333282470703</td>\n",
       "      <td>80527500</td>\n",
       "    </tr>\n",
       "    <tr>\n",
       "      <th>4</th>\n",
       "      <td>2015-01-06</td>\n",
       "      <td>14.085332870483398</td>\n",
       "      <td>14.279999732971191</td>\n",
       "      <td>13.61400032043457</td>\n",
       "      <td>14.003999710083008</td>\n",
       "      <td>93928500</td>\n",
       "    </tr>\n",
       "  </tbody>\n",
       "</table>\n",
       "</div>"
      ],
      "text/plain": [
       "        Price               Close                High                 Low  \\\n",
       "0      Ticker                TSLA                TSLA                TSLA   \n",
       "1        Date                 NaN                 NaN                 NaN   \n",
       "2  2015-01-02  14.620667457580566  14.883333206176758   14.21733283996582   \n",
       "3  2015-01-05  14.005999565124512  14.433333396911621  13.810667037963867   \n",
       "4  2015-01-06  14.085332870483398  14.279999732971191   13.61400032043457   \n",
       "\n",
       "                 Open    Volume  \n",
       "0                TSLA      TSLA  \n",
       "1                 NaN       NaN  \n",
       "2  14.857999801635742  71466000  \n",
       "3  14.303333282470703  80527500  \n",
       "4  14.003999710083008  93928500  "
      ]
     },
     "execution_count": 5,
     "metadata": {},
     "output_type": "execute_result"
    }
   ],
   "source": [
    "df.head()"
   ]
  },
  {
   "cell_type": "code",
   "execution_count": 6,
   "id": "1ffa2e6a",
   "metadata": {},
   "outputs": [],
   "source": [
    "df.drop([0,1], inplace=True)"
   ]
  },
  {
   "cell_type": "code",
   "execution_count": 7,
   "id": "813aa5f9",
   "metadata": {},
   "outputs": [],
   "source": [
    "df.rename(columns={'Price':'Date'}, inplace=True)"
   ]
  },
  {
   "cell_type": "code",
   "execution_count": 8,
   "id": "32b3acb1",
   "metadata": {},
   "outputs": [
    {
     "data": {
      "application/vnd.microsoft.datawrangler.viewer.v0+json": {
       "columns": [
        {
         "name": "index",
         "rawType": "int64",
         "type": "integer"
        },
        {
         "name": "Date",
         "rawType": "object",
         "type": "string"
        },
        {
         "name": "Close",
         "rawType": "object",
         "type": "string"
        },
        {
         "name": "High",
         "rawType": "object",
         "type": "string"
        },
        {
         "name": "Low",
         "rawType": "object",
         "type": "string"
        },
        {
         "name": "Open",
         "rawType": "object",
         "type": "string"
        },
        {
         "name": "Volume",
         "rawType": "object",
         "type": "string"
        }
       ],
       "ref": "6b34f96e-7d36-4abb-8efb-a96531913396",
       "rows": [
        [
         "2",
         "2015-01-02",
         "14.620667457580566",
         "14.883333206176758",
         "14.21733283996582",
         "14.857999801635742",
         "71466000"
        ],
        [
         "3",
         "2015-01-05",
         "14.005999565124512",
         "14.433333396911621",
         "13.810667037963867",
         "14.303333282470703",
         "80527500"
        ],
        [
         "4",
         "2015-01-06",
         "14.085332870483398",
         "14.279999732971191",
         "13.61400032043457",
         "14.003999710083008",
         "93928500"
        ],
        [
         "5",
         "2015-01-07",
         "14.063332557678223",
         "14.3186674118042",
         "13.985333442687988",
         "14.223333358764648",
         "44526000"
        ],
        [
         "6",
         "2015-01-08",
         "14.041333198547363",
         "14.25333309173584",
         "14.000666618347168",
         "14.187333106994629",
         "51637500"
        ]
       ],
       "shape": {
        "columns": 6,
        "rows": 5
       }
      },
      "text/html": [
       "<div>\n",
       "<style scoped>\n",
       "    .dataframe tbody tr th:only-of-type {\n",
       "        vertical-align: middle;\n",
       "    }\n",
       "\n",
       "    .dataframe tbody tr th {\n",
       "        vertical-align: top;\n",
       "    }\n",
       "\n",
       "    .dataframe thead th {\n",
       "        text-align: right;\n",
       "    }\n",
       "</style>\n",
       "<table border=\"1\" class=\"dataframe\">\n",
       "  <thead>\n",
       "    <tr style=\"text-align: right;\">\n",
       "      <th></th>\n",
       "      <th>Date</th>\n",
       "      <th>Close</th>\n",
       "      <th>High</th>\n",
       "      <th>Low</th>\n",
       "      <th>Open</th>\n",
       "      <th>Volume</th>\n",
       "    </tr>\n",
       "  </thead>\n",
       "  <tbody>\n",
       "    <tr>\n",
       "      <th>2</th>\n",
       "      <td>2015-01-02</td>\n",
       "      <td>14.620667457580566</td>\n",
       "      <td>14.883333206176758</td>\n",
       "      <td>14.21733283996582</td>\n",
       "      <td>14.857999801635742</td>\n",
       "      <td>71466000</td>\n",
       "    </tr>\n",
       "    <tr>\n",
       "      <th>3</th>\n",
       "      <td>2015-01-05</td>\n",
       "      <td>14.005999565124512</td>\n",
       "      <td>14.433333396911621</td>\n",
       "      <td>13.810667037963867</td>\n",
       "      <td>14.303333282470703</td>\n",
       "      <td>80527500</td>\n",
       "    </tr>\n",
       "    <tr>\n",
       "      <th>4</th>\n",
       "      <td>2015-01-06</td>\n",
       "      <td>14.085332870483398</td>\n",
       "      <td>14.279999732971191</td>\n",
       "      <td>13.61400032043457</td>\n",
       "      <td>14.003999710083008</td>\n",
       "      <td>93928500</td>\n",
       "    </tr>\n",
       "    <tr>\n",
       "      <th>5</th>\n",
       "      <td>2015-01-07</td>\n",
       "      <td>14.063332557678223</td>\n",
       "      <td>14.3186674118042</td>\n",
       "      <td>13.985333442687988</td>\n",
       "      <td>14.223333358764648</td>\n",
       "      <td>44526000</td>\n",
       "    </tr>\n",
       "    <tr>\n",
       "      <th>6</th>\n",
       "      <td>2015-01-08</td>\n",
       "      <td>14.041333198547363</td>\n",
       "      <td>14.25333309173584</td>\n",
       "      <td>14.000666618347168</td>\n",
       "      <td>14.187333106994629</td>\n",
       "      <td>51637500</td>\n",
       "    </tr>\n",
       "  </tbody>\n",
       "</table>\n",
       "</div>"
      ],
      "text/plain": [
       "         Date               Close                High                 Low  \\\n",
       "2  2015-01-02  14.620667457580566  14.883333206176758   14.21733283996582   \n",
       "3  2015-01-05  14.005999565124512  14.433333396911621  13.810667037963867   \n",
       "4  2015-01-06  14.085332870483398  14.279999732971191   13.61400032043457   \n",
       "5  2015-01-07  14.063332557678223    14.3186674118042  13.985333442687988   \n",
       "6  2015-01-08  14.041333198547363   14.25333309173584  14.000666618347168   \n",
       "\n",
       "                 Open    Volume  \n",
       "2  14.857999801635742  71466000  \n",
       "3  14.303333282470703  80527500  \n",
       "4  14.003999710083008  93928500  \n",
       "5  14.223333358764648  44526000  \n",
       "6  14.187333106994629  51637500  "
      ]
     },
     "execution_count": 8,
     "metadata": {},
     "output_type": "execute_result"
    }
   ],
   "source": [
    "df.head()"
   ]
  },
  {
   "cell_type": "code",
   "execution_count": 9,
   "id": "7da28c40",
   "metadata": {},
   "outputs": [],
   "source": [
    "df['Date'] = pd.to_datetime(df['Date'])\n"
   ]
  },
  {
   "cell_type": "code",
   "execution_count": 10,
   "id": "d66782cb",
   "metadata": {},
   "outputs": [],
   "source": [
    "col = (df.select_dtypes(include = 'object'))\n",
    "\n",
    "for col in col :\n",
    "   df[col] = pd.to_numeric(df[col])"
   ]
  },
  {
   "cell_type": "code",
   "execution_count": 11,
   "id": "dfc98ff9",
   "metadata": {},
   "outputs": [
    {
     "data": {
      "application/vnd.microsoft.datawrangler.viewer.v0+json": {
       "columns": [
        {
         "name": "index",
         "rawType": "int64",
         "type": "integer"
        },
        {
         "name": "Date",
         "rawType": "datetime64[ns]",
         "type": "datetime"
        },
        {
         "name": "Close",
         "rawType": "float64",
         "type": "float"
        },
        {
         "name": "High",
         "rawType": "float64",
         "type": "float"
        },
        {
         "name": "Low",
         "rawType": "float64",
         "type": "float"
        },
        {
         "name": "Open",
         "rawType": "float64",
         "type": "float"
        },
        {
         "name": "Volume",
         "rawType": "int64",
         "type": "integer"
        }
       ],
       "ref": "25e980c7-a4a5-487d-bc54-f5e8cc20664d",
       "rows": [
        [
         "2",
         "2015-01-02 00:00:00",
         "14.620667457580566",
         "14.883333206176758",
         "14.21733283996582",
         "14.857999801635742",
         "71466000"
        ],
        [
         "3",
         "2015-01-05 00:00:00",
         "14.005999565124512",
         "14.43333339691162",
         "13.810667037963867",
         "14.303333282470703",
         "80527500"
        ],
        [
         "4",
         "2015-01-06 00:00:00",
         "14.085332870483398",
         "14.279999732971191",
         "13.61400032043457",
         "14.003999710083008",
         "93928500"
        ],
        [
         "5",
         "2015-01-07 00:00:00",
         "14.063332557678224",
         "14.3186674118042",
         "13.985333442687988",
         "14.223333358764648",
         "44526000"
        ],
        [
         "6",
         "2015-01-08 00:00:00",
         "14.041333198547363",
         "14.25333309173584",
         "14.000666618347168",
         "14.187333106994627",
         "51637500"
        ]
       ],
       "shape": {
        "columns": 6,
        "rows": 5
       }
      },
      "text/html": [
       "<div>\n",
       "<style scoped>\n",
       "    .dataframe tbody tr th:only-of-type {\n",
       "        vertical-align: middle;\n",
       "    }\n",
       "\n",
       "    .dataframe tbody tr th {\n",
       "        vertical-align: top;\n",
       "    }\n",
       "\n",
       "    .dataframe thead th {\n",
       "        text-align: right;\n",
       "    }\n",
       "</style>\n",
       "<table border=\"1\" class=\"dataframe\">\n",
       "  <thead>\n",
       "    <tr style=\"text-align: right;\">\n",
       "      <th></th>\n",
       "      <th>Date</th>\n",
       "      <th>Close</th>\n",
       "      <th>High</th>\n",
       "      <th>Low</th>\n",
       "      <th>Open</th>\n",
       "      <th>Volume</th>\n",
       "    </tr>\n",
       "  </thead>\n",
       "  <tbody>\n",
       "    <tr>\n",
       "      <th>2</th>\n",
       "      <td>2015-01-02</td>\n",
       "      <td>14.620667</td>\n",
       "      <td>14.883333</td>\n",
       "      <td>14.217333</td>\n",
       "      <td>14.858000</td>\n",
       "      <td>71466000</td>\n",
       "    </tr>\n",
       "    <tr>\n",
       "      <th>3</th>\n",
       "      <td>2015-01-05</td>\n",
       "      <td>14.006000</td>\n",
       "      <td>14.433333</td>\n",
       "      <td>13.810667</td>\n",
       "      <td>14.303333</td>\n",
       "      <td>80527500</td>\n",
       "    </tr>\n",
       "    <tr>\n",
       "      <th>4</th>\n",
       "      <td>2015-01-06</td>\n",
       "      <td>14.085333</td>\n",
       "      <td>14.280000</td>\n",
       "      <td>13.614000</td>\n",
       "      <td>14.004000</td>\n",
       "      <td>93928500</td>\n",
       "    </tr>\n",
       "    <tr>\n",
       "      <th>5</th>\n",
       "      <td>2015-01-07</td>\n",
       "      <td>14.063333</td>\n",
       "      <td>14.318667</td>\n",
       "      <td>13.985333</td>\n",
       "      <td>14.223333</td>\n",
       "      <td>44526000</td>\n",
       "    </tr>\n",
       "    <tr>\n",
       "      <th>6</th>\n",
       "      <td>2015-01-08</td>\n",
       "      <td>14.041333</td>\n",
       "      <td>14.253333</td>\n",
       "      <td>14.000667</td>\n",
       "      <td>14.187333</td>\n",
       "      <td>51637500</td>\n",
       "    </tr>\n",
       "  </tbody>\n",
       "</table>\n",
       "</div>"
      ],
      "text/plain": [
       "        Date      Close       High        Low       Open    Volume\n",
       "2 2015-01-02  14.620667  14.883333  14.217333  14.858000  71466000\n",
       "3 2015-01-05  14.006000  14.433333  13.810667  14.303333  80527500\n",
       "4 2015-01-06  14.085333  14.280000  13.614000  14.004000  93928500\n",
       "5 2015-01-07  14.063333  14.318667  13.985333  14.223333  44526000\n",
       "6 2015-01-08  14.041333  14.253333  14.000667  14.187333  51637500"
      ]
     },
     "execution_count": 11,
     "metadata": {},
     "output_type": "execute_result"
    }
   ],
   "source": [
    "df.head()"
   ]
  },
  {
   "cell_type": "code",
   "execution_count": 12,
   "id": "5911370e",
   "metadata": {},
   "outputs": [],
   "source": [
    "df.to_csv('Tesla_stock.csv', index=False)"
   ]
  }
 ],
 "metadata": {
  "kernelspec": {
   "display_name": "Python 3",
   "language": "python",
   "name": "python3"
  },
  "language_info": {
   "codemirror_mode": {
    "name": "ipython",
    "version": 3
   },
   "file_extension": ".py",
   "mimetype": "text/x-python",
   "name": "python",
   "nbconvert_exporter": "python",
   "pygments_lexer": "ipython3",
   "version": "3.13.5"
  }
 },
 "nbformat": 4,
 "nbformat_minor": 5
}
